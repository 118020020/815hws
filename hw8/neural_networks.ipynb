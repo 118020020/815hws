{
 "cells": [
  {
   "cell_type": "markdown",
   "metadata": {},
   "source": [
    "Source: https://pytorch.org/tutorials/beginner/introyt/trainingyt.html"
   ]
  },
  {
   "cell_type": "markdown",
   "metadata": {},
   "source": [
    "# Load Dataset"
   ]
  },
  {
   "cell_type": "code",
   "execution_count": 37,
   "metadata": {},
   "outputs": [
    {
     "name": "stdout",
     "output_type": "stream",
     "text": [
      "Training set has 60000 instances\n",
      "Validation set has 10000 instances\n"
     ]
    }
   ],
   "source": [
    "import torch\n",
    "import torchvision\n",
    "import torchvision.transforms as transforms\n",
    "\n",
    "# PyTorch TensorBoard support\n",
    "from torch.utils.tensorboard import SummaryWriter\n",
    "from datetime import datetime\n",
    "\n",
    "# Transform to normalize the data (substract the mean)\n",
    "transform = transforms.Compose(\n",
    "    [transforms.ToTensor(),\n",
    "    transforms.Normalize((0.5,), (0.5,))])\n",
    "\n",
    "# Create datasets for training & validation, download if necessary\n",
    "training_set = torchvision.datasets.FashionMNIST('./data', train=True, transform=transform, download=True)\n",
    "validation_set = torchvision.datasets.FashionMNIST('./data', train=False, transform=transform, download=True)\n",
    "\n",
    "# Create data loaders for our datasets; shuffle for training, not for validation\n",
    "training_loader = torch.utils.data.DataLoader(training_set, batch_size=4, shuffle=True)\n",
    "validation_loader = torch.utils.data.DataLoader(validation_set, batch_size=4, shuffle=False)\n",
    "\n",
    "# Class labels\n",
    "classes = ('T-shirt/top', 'Trouser', 'Pullover', 'Dress', 'Coat',\n",
    "        'Sandal', 'Shirt', 'Sneaker', 'Bag', 'Ankle Boot')\n",
    "\n",
    "# Report split sizes\n",
    "print('Training set has {} instances'.format(len(training_set)))\n",
    "print('Validation set has {} instances'.format(len(validation_set)))"
   ]
  },
  {
   "cell_type": "markdown",
   "metadata": {},
   "source": [
    "# Visualize Data"
   ]
  },
  {
   "cell_type": "code",
   "execution_count": 52,
   "metadata": {},
   "outputs": [
    {
     "name": "stdout",
     "output_type": "stream",
     "text": [
      "Sneaker  Ankle Boot  Coat  Sandal\n"
     ]
    },
    {
     "data": {
      "image/png": "[encoded data removed]",
      "text/plain": [
       "<Figure size 640x480 with 1 Axes>"
      ]
     },
     "metadata": {},
     "output_type": "display_data"
    }
   ],
   "source": [
    "import matplotlib.pyplot as plt\n",
    "import numpy as np\n",
    "\n",
    "# Helper function for inline image display\n",
    "def matplotlib_imshow(img, one_channel=False):\n",
    "    if one_channel:\n",
    "        img = img.mean(dim=0)\n",
    "    img = img / 2 + 0.5     # unnormalize\n",
    "    npimg = img.numpy()\n",
    "    if one_channel:\n",
    "        plt.imshow(npimg, cmap=\"Greys\")\n",
    "    else:\n",
    "        plt.imshow(np.transpose(npimg, (1, 2, 0)))\n",
    "\n",
    "dataiter = iter(training_loader)\n",
    "images, labels = next(dataiter)\n",
    "\n",
    "# Create a grid from the images and show them\n",
    "img_grid = torchvision.utils.make_grid(images)\n",
    "matplotlib_imshow(img_grid, one_channel=True)\n",
    "print('  '.join(classes[labels[j]] for j in range(4)))"
   ]
  },
  {
   "cell_type": "markdown",
   "metadata": {},
   "source": [
    "# Create Model"
   ]
  },
  {
   "cell_type": "code",
   "execution_count": 33,
   "metadata": {},
   "outputs": [],
   "source": [
    "import torch.nn as nn\n",
    "import torch.nn.functional as F\n",
    "\n",
    "w = 28\n",
    "h = 28\n",
    "num_classes = 10\n",
    "\n",
    "# PyTorch models inherit from torch.nn.Module\n",
    "class GarmentClassifier(nn.Module):\n",
    "    def __init__(self):\n",
    "        super(GarmentClassifier, self).__init__()\n",
    "        self.input = nn.Flatten()\n",
    "        self.fc1 = nn.Linear(w*h, 120)\n",
    "        self.fc2 = nn.Linear(120, 84)\n",
    "        self.fc3 = nn.Linear(84, num_classes)\n",
    "\n",
    "    def forward(self, x):\n",
    "        x = self.input(x)\n",
    "        x = F.tanh(self.fc1(x))\n",
    "        x = F.tanh(self.fc2(x))\n",
    "        x = self.fc3(x)\n",
    "        return x\n",
    "\n",
    "model = GarmentClassifier()"
   ]
  },
  {
   "cell_type": "markdown",
   "metadata": {},
   "source": [
    "# Define Optimization Parameters"
   ]
  },
  {
   "cell_type": "code",
   "execution_count": 34,
   "metadata": {},
   "outputs": [],
   "source": [
    "# This criterion computes the cross entropy loss between input logits and target.\n",
    "loss_fn = torch.nn.CrossEntropyLoss()\n",
    "\n",
    "# We will use Stochastic Gradient Descent\n",
    "optimizer = torch.optim.SGD(model.parameters(), lr=0.001, momentum=0.9)"
   ]
  },
  {
   "cell_type": "markdown",
   "metadata": {},
   "source": [
    "# Training Loop"
   ]
  },
  {
   "cell_type": "code",
   "execution_count": 35,
   "metadata": {},
   "outputs": [],
   "source": [
    "def train_one_epoch(epoch_index, tb_writer):\n",
    "    running_loss = 0.\n",
    "    last_loss = 0.\n",
    "\n",
    "    # Here, we use enumerate(training_loader) instead of\n",
    "    # iter(training_loader) so that we can track the batch\n",
    "    # index and do some intra-epoch reporting\n",
    "    for i, data in enumerate(training_loader):\n",
    "        # Every data instance is an input + label pair\n",
    "        inputs, labels = data\n",
    "\n",
    "        # Zero your gradients for every batch!\n",
    "        optimizer.zero_grad()\n",
    "\n",
    "        # Make predictions for this batch\n",
    "        outputs = model(inputs)\n",
    "\n",
    "        # Compute the loss and its gradients\n",
    "        loss = loss_fn(outputs, labels)\n",
    "        loss.backward()\n",
    "\n",
    "        # Adjust learning weights\n",
    "        optimizer.step()\n",
    "\n",
    "        # Gather data and report\n",
    "        running_loss += loss.item()\n",
    "        if i % 1000 == 999:\n",
    "            last_loss = running_loss / 1000 # loss per batch\n",
    "            print('  batch {} loss: {}'.format(i + 1, last_loss))\n",
    "            tb_x = epoch_index * len(training_loader) + i + 1\n",
    "            tb_writer.add_scalar('Loss/train', last_loss, tb_x)\n",
    "            running_loss = 0.\n",
    "\n",
    "    return last_loss"
   ]
  },
  {
   "cell_type": "markdown",
   "metadata": {},
   "source": [
    "# Running the Code"
   ]
  },
  {
   "cell_type": "code",
   "execution_count": 36,
   "metadata": {},
   "outputs": [
    {
     "name": "stdout",
     "output_type": "stream",
     "text": [
      "EPOCH 1:\n",
      "  batch 1000 loss: 1.0082411012165249\n",
      "  batch 2000 loss: 0.6251344072613865\n",
      "  batch 3000 loss: 0.5688667633831501\n",
      "  batch 4000 loss: 0.5270487912585959\n",
      "  batch 5000 loss: 0.5203557821298018\n",
      "  batch 6000 loss: 0.4919842131733894\n",
      "  batch 7000 loss: 0.4732360770236701\n",
      "  batch 8000 loss: 0.4478088934775442\n",
      "  batch 9000 loss: 0.45714920801483094\n",
      "  batch 10000 loss: 0.4391925804109778\n",
      "  batch 11000 loss: 0.4358374422851484\n",
      "  batch 12000 loss: 0.44498146991385146\n",
      "  batch 13000 loss: 0.43405559270689265\n",
      "  batch 14000 loss: 0.4364234128408134\n",
      "  batch 15000 loss: 0.41931467372283804\n",
      "LOSS train 0.41931467372283804 valid 0.4355277717113495\n",
      "EPOCH 2:\n",
      "  batch 1000 loss: 0.39507370816508774\n",
      "  batch 2000 loss: 0.3949554580473341\n",
      "  batch 3000 loss: 0.4065515527976677\n",
      "  batch 4000 loss: 0.3734308124186937\n",
      "  batch 5000 loss: 0.39652351212128994\n",
      "  batch 6000 loss: 0.3850455544523429\n",
      "  batch 7000 loss: 0.39464801391400395\n",
      "  batch 8000 loss: 0.36737369432626293\n",
      "  batch 9000 loss: 0.38146272763831074\n",
      "  batch 10000 loss: 0.39068819185905157\n",
      "  batch 11000 loss: 0.38443075365410184\n",
      "  batch 12000 loss: 0.3859093165548984\n",
      "  batch 13000 loss: 0.37327987791656053\n",
      "  batch 14000 loss: 0.3843325339960866\n",
      "  batch 15000 loss: 0.36665017985983284\n",
      "LOSS train 0.36665017985983284 valid 0.385469526052475\n",
      "EPOCH 3:\n",
      "  batch 1000 loss: 0.34674382737698034\n",
      "  batch 2000 loss: 0.37249785270367286\n",
      "  batch 3000 loss: 0.3405299978677649\n",
      "  batch 4000 loss: 0.3665036079061683\n",
      "  batch 5000 loss: 0.35108627389394675\n",
      "  batch 6000 loss: 0.3734603190519265\n",
      "  batch 7000 loss: 0.34301158525655046\n",
      "  batch 8000 loss: 0.34947497289977036\n",
      "  batch 9000 loss: 0.3359829558217898\n",
      "  batch 10000 loss: 0.3343947576005012\n",
      "  batch 11000 loss: 0.33885780029185114\n",
      "  batch 12000 loss: 0.3168547011265182\n",
      "  batch 13000 loss: 0.3649836489823647\n",
      "  batch 14000 loss: 0.34334833216434346\n",
      "  batch 15000 loss: 0.35963597847113854\n",
      "LOSS train 0.35963597847113854 valid 0.3876756727695465\n",
      "EPOCH 4:\n",
      "  batch 1000 loss: 0.3192074133860879\n",
      "  batch 2000 loss: 0.3298603570251726\n",
      "  batch 3000 loss: 0.31791302193887533\n",
      "  batch 4000 loss: 0.30781452124158387\n",
      "  batch 5000 loss: 0.3295879192092689\n",
      "  batch 6000 loss: 0.31861458413954824\n",
      "  batch 7000 loss: 0.3199722233570064\n",
      "  batch 8000 loss: 0.33731557754043023\n",
      "  batch 9000 loss: 0.3405845007322496\n",
      "  batch 10000 loss: 0.32209897202654975\n",
      "  batch 11000 loss: 0.3224714977765107\n",
      "  batch 12000 loss: 0.3082023111960443\n",
      "  batch 13000 loss: 0.32147062245046254\n",
      "  batch 14000 loss: 0.3366740883907769\n",
      "  batch 15000 loss: 0.32434971724246864\n",
      "LOSS train 0.32434971724246864 valid 0.35985854268074036\n",
      "EPOCH 5:\n",
      "  batch 1000 loss: 0.3156291691857914\n",
      "  batch 2000 loss: 0.3010066432398162\n",
      "  batch 3000 loss: 0.28819181994567045\n",
      "  batch 4000 loss: 0.3141706088013598\n",
      "  batch 5000 loss: 0.2928515595674107\n",
      "  batch 6000 loss: 0.29791806559765244\n",
      "  batch 7000 loss: 0.3114394273041689\n",
      "  batch 8000 loss: 0.2790222849368583\n",
      "  batch 9000 loss: 0.29938683584239334\n",
      "  batch 10000 loss: 0.3139824904461857\n",
      "  batch 11000 loss: 0.3133428309192823\n",
      "  batch 12000 loss: 0.3248469991259044\n",
      "  batch 13000 loss: 0.30770346811097987\n",
      "  batch 14000 loss: 0.3046316759791225\n",
      "  batch 15000 loss: 0.3060992963284371\n",
      "LOSS train 0.3060992963284371 valid 0.36316978931427\n"
     ]
    }
   ],
   "source": [
    "# Initializing in a separate cell so we can easily add more epochs to the same run\n",
    "timestamp = datetime.now().strftime('%Y%m%d_%H%M%S')\n",
    "writer = SummaryWriter('runs/fashion_trainer_{}'.format(timestamp))\n",
    "epoch_number = 0\n",
    "\n",
    "EPOCHS = 5\n",
    "\n",
    "best_vloss = 1_000_000.\n",
    "\n",
    "for epoch in range(EPOCHS):\n",
    "    print('EPOCH {}:'.format(epoch_number + 1))\n",
    "\n",
    "    # Make sure gradient tracking is on, and do a pass over the data\n",
    "    model.train(True)\n",
    "    avg_loss = train_one_epoch(epoch_number, writer)\n",
    "\n",
    "    running_vloss = 0.0\n",
    "    # Set the model to evaluation mode, disabling dropout and using population\n",
    "    # statistics for batch normalization.\n",
    "    model.eval()\n",
    "\n",
    "    # Disable gradient computation and reduce memory consumption.\n",
    "    with torch.no_grad():\n",
    "        for i, vdata in enumerate(validation_loader):\n",
    "            vinputs, vlabels = vdata\n",
    "            voutputs = model(vinputs)\n",
    "            vloss = loss_fn(voutputs, vlabels)\n",
    "            running_vloss += vloss\n",
    "\n",
    "    avg_vloss = running_vloss / (i + 1)\n",
    "    print('LOSS train {} valid {}'.format(avg_loss, avg_vloss))\n",
    "\n",
    "    # Log the running loss averaged per batch\n",
    "    # for both training and validation\n",
    "    writer.add_scalars('Training vs. Validation Loss',\n",
    "                    { 'Training' : avg_loss, 'Validation' : avg_vloss },\n",
    "                    epoch_number + 1)\n",
    "    writer.flush()\n",
    "\n",
    "    # Track best performance, and save the model's state\n",
    "    if avg_vloss < best_vloss:\n",
    "        best_vloss = avg_vloss\n",
    "        model_path = 'model_{}_{}'.format(timestamp, epoch_number)\n",
    "        torch.save(model.state_dict(), model_path)\n",
    "\n",
    "    epoch_number += 1"
   ]
  }
 ],
 "metadata": {
  "kernelspec": {
   "display_name": "pytorch",
   "language": "python",
   "name": "python3"
  },
  "language_info": {
   "codemirror_mode": {
    "name": "ipython",
    "version": 3
   },
   "file_extension": ".py",
   "mimetype": "text/x-python",
   "name": "python",
   "nbconvert_exporter": "python",
   "pygments_lexer": "ipython3",
   "version": "3.10.15"
  }
 },
 "nbformat": 4,
 "nbformat_minor": 2
}
